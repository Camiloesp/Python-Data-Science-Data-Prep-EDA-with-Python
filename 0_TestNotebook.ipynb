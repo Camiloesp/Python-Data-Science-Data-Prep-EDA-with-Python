{
 "cells": [
  {
   "cell_type": "markdown",
   "id": "236b364a-6597-4183-bbcf-17e3d701d31d",
   "metadata": {},
   "source": [
    "# Jupyter Notebook Intro\n",
    "## Section 1: Markdown Basics\n",
    "\n",
    "This is body text. I can use this area to provide more in depth explanations of my: \n",
    "* Thought process\n",
    "* Overall workflow\n",
    "* etc\n",
    "\n",
    "**BOLD Text**\n",
    "*italicize Text*\n",
    "***BOLD and Italic***\n",
    "\n",
    "1. first number list.\n",
    "2. second number list.\n",
    "3. last number list.\n",
    "\n",
    "`backtick` to highlight\n",
    "\n",
    "google link [here](https://www.google.com)\n",
    "\n"
   ]
  },
  {
   "cell_type": "code",
   "execution_count": null,
   "id": "254acc8a-da51-4603-acf1-94c04020b023",
   "metadata": {},
   "outputs": [],
   "source": []
  }
 ],
 "metadata": {
  "kernelspec": {
   "display_name": "Python [conda env:base] *",
   "language": "python",
   "name": "conda-base-py"
  },
  "language_info": {
   "codemirror_mode": {
    "name": "ipython",
    "version": 3
   },
   "file_extension": ".py",
   "mimetype": "text/x-python",
   "name": "python",
   "nbconvert_exporter": "python",
   "pygments_lexer": "ipython3",
   "version": "3.12.7"
  }
 },
 "nbformat": 4,
 "nbformat_minor": 5
}
